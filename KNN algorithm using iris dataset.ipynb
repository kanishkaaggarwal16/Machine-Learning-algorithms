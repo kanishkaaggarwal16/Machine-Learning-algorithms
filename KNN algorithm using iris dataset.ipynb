{
 "cells": [
  {
   "cell_type": "markdown",
   "id": "1228bcd3",
   "metadata": {},
   "source": [
    "# KNN algorithm using iris dataset"
   ]
  },
  {
   "cell_type": "code",
   "execution_count": 1,
   "id": "e5e7ef2b",
   "metadata": {},
   "outputs": [],
   "source": [
    "#loading dataset\n",
    "import pandas as pd\n",
    "names=['x1','x2','x3','x4','y']\n",
    "df=pd.read_csv(r'C:\\Users\\hp\\OneDrive\\Desktop\\iris ds.csv',names=names)"
   ]
  },
  {
   "cell_type": "code",
   "execution_count": 2,
   "id": "512d6f56",
   "metadata": {
    "scrolled": true
   },
   "outputs": [
    {
     "data": {
      "text/html": [
       "<div>\n",
       "<style scoped>\n",
       "    .dataframe tbody tr th:only-of-type {\n",
       "        vertical-align: middle;\n",
       "    }\n",
       "\n",
       "    .dataframe tbody tr th {\n",
       "        vertical-align: top;\n",
       "    }\n",
       "\n",
       "    .dataframe thead th {\n",
       "        text-align: right;\n",
       "    }\n",
       "</style>\n",
       "<table border=\"1\" class=\"dataframe\">\n",
       "  <thead>\n",
       "    <tr style=\"text-align: right;\">\n",
       "      <th></th>\n",
       "      <th>x1</th>\n",
       "      <th>x2</th>\n",
       "      <th>x3</th>\n",
       "      <th>x4</th>\n",
       "      <th>y</th>\n",
       "    </tr>\n",
       "  </thead>\n",
       "  <tbody>\n",
       "    <tr>\n",
       "      <th>0</th>\n",
       "      <td>sepal.length</td>\n",
       "      <td>sepal.width</td>\n",
       "      <td>petal.length</td>\n",
       "      <td>petal.width</td>\n",
       "      <td>variety</td>\n",
       "    </tr>\n",
       "    <tr>\n",
       "      <th>1</th>\n",
       "      <td>5.1</td>\n",
       "      <td>3.5</td>\n",
       "      <td>1.4</td>\n",
       "      <td>0.2</td>\n",
       "      <td>Setosa</td>\n",
       "    </tr>\n",
       "    <tr>\n",
       "      <th>2</th>\n",
       "      <td>4.9</td>\n",
       "      <td>3</td>\n",
       "      <td>1.4</td>\n",
       "      <td>0.2</td>\n",
       "      <td>Setosa</td>\n",
       "    </tr>\n",
       "    <tr>\n",
       "      <th>3</th>\n",
       "      <td>4.7</td>\n",
       "      <td>3.2</td>\n",
       "      <td>1.3</td>\n",
       "      <td>0.2</td>\n",
       "      <td>Setosa</td>\n",
       "    </tr>\n",
       "    <tr>\n",
       "      <th>4</th>\n",
       "      <td>4.6</td>\n",
       "      <td>3.1</td>\n",
       "      <td>1.5</td>\n",
       "      <td>0.2</td>\n",
       "      <td>Setosa</td>\n",
       "    </tr>\n",
       "  </tbody>\n",
       "</table>\n",
       "</div>"
      ],
      "text/plain": [
       "             x1           x2            x3           x4        y\n",
       "0  sepal.length  sepal.width  petal.length  petal.width  variety\n",
       "1           5.1          3.5           1.4          0.2   Setosa\n",
       "2           4.9            3           1.4          0.2   Setosa\n",
       "3           4.7          3.2           1.3          0.2   Setosa\n",
       "4           4.6          3.1           1.5          0.2   Setosa"
      ]
     },
     "execution_count": 2,
     "metadata": {},
     "output_type": "execute_result"
    }
   ],
   "source": [
    "#this head bracket value will show numbred types results\n",
    "df.head()"
   ]
  },
  {
   "cell_type": "code",
   "execution_count": 3,
   "id": "10e23a60",
   "metadata": {
    "scrolled": true
   },
   "outputs": [],
   "source": [
    "df = df.drop(0)"
   ]
  },
  {
   "cell_type": "code",
   "execution_count": 4,
   "id": "7b615428",
   "metadata": {
    "scrolled": false
   },
   "outputs": [
    {
     "name": "stdout",
     "output_type": "stream",
     "text": [
      "<class 'pandas.core.frame.DataFrame'>\n",
      "RangeIndex: 150 entries, 1 to 150\n",
      "Data columns (total 5 columns):\n",
      " #   Column  Non-Null Count  Dtype \n",
      "---  ------  --------------  ----- \n",
      " 0   x1      150 non-null    object\n",
      " 1   x2      150 non-null    object\n",
      " 2   x3      150 non-null    object\n",
      " 3   x4      150 non-null    object\n",
      " 4   y       150 non-null    object\n",
      "dtypes: object(5)\n",
      "memory usage: 6.0+ KB\n"
     ]
    }
   ],
   "source": [
    "df.info()"
   ]
  },
  {
   "cell_type": "code",
   "execution_count": 5,
   "id": "9ec04ed5",
   "metadata": {},
   "outputs": [
    {
     "data": {
      "text/plain": [
       "{'Setosa', 'Versicolor', 'Virginica'}"
      ]
     },
     "execution_count": 5,
     "metadata": {},
     "output_type": "execute_result"
    }
   ],
   "source": [
    "set(df['y'])"
   ]
  },
  {
   "cell_type": "code",
   "execution_count": 6,
   "id": "a8511c4d",
   "metadata": {},
   "outputs": [],
   "source": [
    "#tells null values\n",
    "#df.isnull().sum()"
   ]
  },
  {
   "cell_type": "code",
   "execution_count": 7,
   "id": "9c5f8019",
   "metadata": {},
   "outputs": [
    {
     "data": {
      "text/plain": [
       "(150, 5)"
      ]
     },
     "execution_count": 7,
     "metadata": {},
     "output_type": "execute_result"
    }
   ],
   "source": [
    "#to know no. of col nd rows\n",
    "df.shape"
   ]
  },
  {
   "cell_type": "code",
   "execution_count": 8,
   "id": "e1eff517",
   "metadata": {},
   "outputs": [
    {
     "data": {
      "text/html": [
       "<div>\n",
       "<style scoped>\n",
       "    .dataframe tbody tr th:only-of-type {\n",
       "        vertical-align: middle;\n",
       "    }\n",
       "\n",
       "    .dataframe tbody tr th {\n",
       "        vertical-align: top;\n",
       "    }\n",
       "\n",
       "    .dataframe thead th {\n",
       "        text-align: right;\n",
       "    }\n",
       "</style>\n",
       "<table border=\"1\" class=\"dataframe\">\n",
       "  <thead>\n",
       "    <tr style=\"text-align: right;\">\n",
       "      <th></th>\n",
       "      <th>x1</th>\n",
       "      <th>x2</th>\n",
       "      <th>x3</th>\n",
       "      <th>x4</th>\n",
       "      <th>y</th>\n",
       "    </tr>\n",
       "  </thead>\n",
       "  <tbody>\n",
       "    <tr>\n",
       "      <th>count</th>\n",
       "      <td>150</td>\n",
       "      <td>150</td>\n",
       "      <td>150</td>\n",
       "      <td>150</td>\n",
       "      <td>150</td>\n",
       "    </tr>\n",
       "    <tr>\n",
       "      <th>unique</th>\n",
       "      <td>35</td>\n",
       "      <td>23</td>\n",
       "      <td>43</td>\n",
       "      <td>22</td>\n",
       "      <td>3</td>\n",
       "    </tr>\n",
       "    <tr>\n",
       "      <th>top</th>\n",
       "      <td>5</td>\n",
       "      <td>3</td>\n",
       "      <td>1.4</td>\n",
       "      <td>0.2</td>\n",
       "      <td>Setosa</td>\n",
       "    </tr>\n",
       "    <tr>\n",
       "      <th>freq</th>\n",
       "      <td>10</td>\n",
       "      <td>26</td>\n",
       "      <td>13</td>\n",
       "      <td>29</td>\n",
       "      <td>50</td>\n",
       "    </tr>\n",
       "  </tbody>\n",
       "</table>\n",
       "</div>"
      ],
      "text/plain": [
       "         x1   x2   x3   x4       y\n",
       "count   150  150  150  150     150\n",
       "unique   35   23   43   22       3\n",
       "top       5    3  1.4  0.2  Setosa\n",
       "freq     10   26   13   29      50"
      ]
     },
     "execution_count": 8,
     "metadata": {},
     "output_type": "execute_result"
    }
   ],
   "source": [
    "#all stats cal\n",
    "df.describe()"
   ]
  },
  {
   "cell_type": "code",
   "execution_count": 9,
   "id": "c1ad9f96",
   "metadata": {},
   "outputs": [
    {
     "data": {
      "text/plain": [
       "y\n",
       "Setosa        50\n",
       "Versicolor    50\n",
       "Virginica     50\n",
       "dtype: int64"
      ]
     },
     "execution_count": 9,
     "metadata": {},
     "output_type": "execute_result"
    }
   ],
   "source": [
    "#no. of instances belong each ds\n",
    "df.groupby('y').size()"
   ]
  },
  {
   "cell_type": "code",
   "execution_count": 10,
   "id": "114c758e",
   "metadata": {},
   "outputs": [
    {
     "data": {
      "text/plain": [
       "{'Setosa': 0, 'Versicolor': 1, 'Virginica': 2}"
      ]
     },
     "execution_count": 10,
     "metadata": {},
     "output_type": "execute_result"
    }
   ],
   "source": [
    "#changing y according to their occurance using unique func\n",
    "keys=df['y'].unique()\n",
    "values=[i for i in range(len(keys))]\n",
    "mapp=dict(zip(keys,values))\n",
    "mapp"
   ]
  },
  {
   "cell_type": "code",
   "execution_count": 11,
   "id": "c386ca3a",
   "metadata": {},
   "outputs": [],
   "source": [
    "#replacing y by their index\n",
    "df['y']=df['y'].replace(keys,values)\n",
    "#df"
   ]
  },
  {
   "cell_type": "code",
   "execution_count": 12,
   "id": "f0d21aaa",
   "metadata": {
    "scrolled": false
   },
   "outputs": [],
   "source": [
    "#making a numpy array\n",
    "import numpy as np\n",
    "dim=df.to_numpy()\n",
    "dim2= np.asarray(dim, dtype=float)"
   ]
  },
  {
   "cell_type": "code",
   "execution_count": 13,
   "id": "88adaf92",
   "metadata": {},
   "outputs": [
    {
     "name": "stdout",
     "output_type": "stream",
     "text": [
      "(120, 5)\n"
     ]
    }
   ],
   "source": [
    "#Dividing data into training and testing\n",
    "#training dataset\n",
    "c1=dim2[0:40]\n",
    "c2=dim2[50:90]\n",
    "c3=dim2[100:140]\n",
    "training_data=np.concatenate((c1,c2,c3))\n",
    "print(np.shape(training_data))\n",
    "#training_data"
   ]
  },
  {
   "cell_type": "code",
   "execution_count": 14,
   "id": "414ec7fc",
   "metadata": {},
   "outputs": [
    {
     "name": "stdout",
     "output_type": "stream",
     "text": [
      "(30, 5)\n"
     ]
    }
   ],
   "source": [
    "#testing dataset\n",
    "test_1=dim2[40:50,:5]\n",
    "test_2=dim2[90:100,:5]\n",
    "test_3=dim2[140:150,:5]\n",
    "testing_data=np.concatenate((test_1,test_2,test_3))\n",
    "print(np.shape(testing_data))"
   ]
  },
  {
   "cell_type": "code",
   "execution_count": 15,
   "id": "e802015f",
   "metadata": {},
   "outputs": [
    {
     "name": "stdout",
     "output_type": "stream",
     "text": [
      "[5.0375 3.4525 1.46   0.235 ]\n",
      "[6.01   2.78   4.3175 1.35  ]\n",
      "[6.6225 2.96   5.6075 1.99  ]\n"
     ]
    }
   ],
   "source": [
    "#mean of clusters\n",
    "import numpy as np\n",
    "mean1=np.mean(c1[:,:4],axis=0)\n",
    "mean2=np.mean(c2[:,:4],axis=0)\n",
    "mean3=np.mean(c3[:,:4],axis=0)\n",
    "print(mean1)\n",
    "print(mean2)\n",
    "print(mean3)"
   ]
  },
  {
   "cell_type": "code",
   "execution_count": 16,
   "id": "52ebc538",
   "metadata": {},
   "outputs": [],
   "source": [
    "#calculating distance from a test point\n",
    "def test(test_point):\n",
    "    dist_1=np.sqrt(np.sum(np.square(np.subtract(mean1,test_point))))\n",
    "    dist_2=np.sqrt(np.sum(np.square(np.subtract(mean2,test_point))))\n",
    "    dist_3=np.sqrt(np.sum(np.square(np.subtract(mean3,test_point))))\n",
    "    \n",
    "    if dist_1<=dist_2 and dist_1<=dist_3:\n",
    "        y = 0\n",
    "        #print(\"belong to the Iris-setosa\")\n",
    "    elif dist_2<=dist_3 and dist_2<=dist_1:\n",
    "        y = 1\n",
    "        #print(\"belong to the Iris-versicolor\")\n",
    "    else:\n",
    "        y = 2\n",
    "        #print(\"belong to the Iris-virginica\")\n",
    "    return y"
   ]
  },
  {
   "cell_type": "code",
   "execution_count": 17,
   "id": "e4f92ccf",
   "metadata": {},
   "outputs": [
    {
     "name": "stdout",
     "output_type": "stream",
     "text": [
      "correct results =  29 : incorrect results =  1\n",
      "Accuracy percentage of the algorithm is =  96.66666666666667\n"
     ]
    }
   ],
   "source": [
    "#calculating accuracy\n",
    "correct = 0\n",
    "incorrect = 0\n",
    "for i in testing_data[:,:5]:\n",
    "    count = 1\n",
    "    test_point= i[:4]\n",
    "    if test(test_point)==i[4]:\n",
    "        correct +=1\n",
    "    else:\n",
    "        incorrect+=1\n",
    "print('correct results = ',correct,': incorrect results = ',incorrect)\n",
    "accuracy = (correct/len(testing_data))*100\n",
    "print('Accuracy percentage of the algorithm is = ',accuracy)"
   ]
  },
  {
   "cell_type": "code",
   "execution_count": null,
   "id": "b5ffc5fb",
   "metadata": {},
   "outputs": [],
   "source": [
    "#overfeeding\n",
    "#validatn set is used indirectly to set training\n",
    "#validatn is to fit a dataset\n",
    "#validan helping to make decisions\n",
    "#accuracy is not ccoming                  "
   ]
  }
 ],
 "metadata": {
  "kernelspec": {
   "display_name": "Python 3 (ipykernel)",
   "language": "python",
   "name": "python3"
  },
  "language_info": {
   "codemirror_mode": {
    "name": "ipython",
    "version": 3
   },
   "file_extension": ".py",
   "mimetype": "text/x-python",
   "name": "python",
   "nbconvert_exporter": "python",
   "pygments_lexer": "ipython3",
   "version": "3.9.16"
  }
 },
 "nbformat": 4,
 "nbformat_minor": 5
}
