{
 "cells": [
  {
   "cell_type": "markdown",
   "id": "dc299ee3",
   "metadata": {},
   "source": [
    "# Modified clustering algorithm for the MNIST data using bootstrap sampling"
   ]
  },
  {
   "cell_type": "code",
   "execution_count": 4,
   "id": "d698590a",
   "metadata": {},
   "outputs": [
    {
     "name": "stdout",
     "output_type": "stream",
     "text": [
      "(60000, 785)\n",
      "(10000, 785)\n"
     ]
    }
   ],
   "source": [
    "import pandas as pd\n",
    "import numpy as np\n",
    "#loading mnist_train dataset\n",
    "df_train=pd.read_csv(r\"C:\\Users\\hp\\OneDrive\\Desktop\\mnist_train.csv\")\n",
    "df_train= df_train.sample(frac=1)   #shuffling of data\n",
    "df_test=pd.read_csv(r\"C:\\Users\\hp\\OneDrive\\Desktop\\mnist_test.csv\")\n",
    "print(df_train.shape)\n",
    "print(df_test.shape)"
   ]
  },
  {
   "cell_type": "code",
   "execution_count": 5,
   "id": "8c772d3c",
   "metadata": {},
   "outputs": [],
   "source": [
    "#df_test.head()"
   ]
  },
  {
   "cell_type": "code",
   "execution_count": 6,
   "id": "f4dd6afe",
   "metadata": {},
   "outputs": [
    {
     "data": {
      "text/plain": [
       "array([0, 1, 2, 3, 4, 5, 6, 7, 8, 9], dtype=int64)"
      ]
     },
     "execution_count": 6,
     "metadata": {},
     "output_type": "execute_result"
    }
   ],
   "source": [
    "#making a numpy array\n",
    "x_train=df_train.to_numpy()\n",
    "x_test=df_test.to_numpy()\n",
    "#unique values\n",
    "y_train=np.unique(x_train[:,0])\n",
    "y_train"
   ]
  },
  {
   "cell_type": "code",
   "execution_count": 7,
   "id": "6e39ff34",
   "metadata": {},
   "outputs": [
    {
     "name": "stdout",
     "output_type": "stream",
     "text": [
      "[[0 0 0 ... 0 0 0]\n",
      " [0 0 0 ... 0 0 0]\n",
      " [0 0 0 ... 0 0 0]\n",
      " ...\n",
      " [0 0 0 ... 0 0 0]\n",
      " [0 0 0 ... 0 0 0]\n",
      " [0 0 0 ... 0 0 0]]\n"
     ]
    }
   ],
   "source": [
    "testing_data=x_test[:,1:]\n",
    "print(testing_data)"
   ]
  },
  {
   "cell_type": "code",
   "execution_count": 8,
   "id": "51cf0fb2",
   "metadata": {},
   "outputs": [],
   "source": [
    "cluster = {}\n",
    "clus = df_train.groupby('label')\n",
    "for groups , data in clus:\n",
    "    cluster[groups] = np.array(data.iloc[:,1:])\n",
    "#cluster"
   ]
  },
  {
   "cell_type": "code",
   "execution_count": 9,
   "id": "11cab09c",
   "metadata": {},
   "outputs": [
    {
     "data": {
      "text/plain": [
       "[0, 1, 2, 3, 4, 5, 6, 7, 8, 9]"
      ]
     },
     "execution_count": 9,
     "metadata": {},
     "output_type": "execute_result"
    }
   ],
   "source": [
    "labels=list(cluster.keys())\n",
    "labels"
   ]
  },
  {
   "cell_type": "code",
   "execution_count": 7,
   "id": "e63cc1be",
   "metadata": {},
   "outputs": [],
   "source": [
    "#creating 5 samples from each cluster splitting 20 prcnt of data\n",
    "sampling = {}\n",
    "for i in range(len(labels)):\n",
    "    sampling[i] = np.array_split(cluster[i] , 5)"
   ]
  },
  {
   "cell_type": "code",
   "execution_count": 8,
   "id": "0041a480",
   "metadata": {},
   "outputs": [],
   "source": [
    "#mean of subset\n",
    "m = {}\n",
    "for i in range(len(sampling)):\n",
    "    sub = []\n",
    "    for j in sampling[i]:\n",
    "        sub.append([j[:,k].mean() for k in range(j.shape[1])])\n",
    "    m[i] = np.array(sub)"
   ]
  },
  {
   "cell_type": "code",
   "execution_count": 9,
   "id": "28303dbc",
   "metadata": {},
   "outputs": [],
   "source": [
    "def distance(a,b):\n",
    "    return np.sqrt(np.sum(np.square(np.subtract(a,b)))).round(4)"
   ]
  },
  {
   "cell_type": "code",
   "execution_count": 10,
   "id": "0d03b4dd",
   "metadata": {},
   "outputs": [],
   "source": [
    "def function(test_point):\n",
    "    dist = {}\n",
    "    for i in range(10):\n",
    "        for j in m[i]:\n",
    "            dis = distance(j,test_point)\n",
    "            dist[dis] = i\n",
    "    d = []\n",
    "    for i in sorted(dist)[:5]:\n",
    "        d.append(dist[i])\n",
    "        return max(d)"
   ]
  },
  {
   "cell_type": "code",
   "execution_count": 11,
   "id": "2556c066",
   "metadata": {},
   "outputs": [
    {
     "name": "stdout",
     "output_type": "stream",
     "text": [
      "[7. 2. 1. ... 4. 5. 6.]\n"
     ]
    }
   ],
   "source": [
    "output = np.empty(0)\n",
    "for data_point in testing_data:\n",
    "    output = np.append(output,function(data_point))\n",
    "print(output)"
   ]
  },
  {
   "cell_type": "code",
   "execution_count": 12,
   "id": "241c807f",
   "metadata": {},
   "outputs": [],
   "source": [
    "#creating label\n",
    "y_test=(df_test.iloc[:,0])"
   ]
  },
  {
   "cell_type": "code",
   "execution_count": 13,
   "id": "f499e490",
   "metadata": {},
   "outputs": [
    {
     "data": {
      "text/plain": [
       "8258"
      ]
     },
     "execution_count": 13,
     "metadata": {},
     "output_type": "execute_result"
    }
   ],
   "source": [
    "#calculating accuracy\n",
    "correct=0\n",
    "total=10000\n",
    "for i in range(len(y_test)):\n",
    "    if y_test[i]==output[i]:\n",
    "        correct+=1\n",
    "    else:\n",
    "        continue\n",
    "correct"
   ]
  },
  {
   "cell_type": "code",
   "execution_count": 14,
   "id": "8dab0377",
   "metadata": {},
   "outputs": [
    {
     "name": "stdout",
     "output_type": "stream",
     "text": [
      "Accuracy is = 82.58 %\n"
     ]
    }
   ],
   "source": [
    "#converting to percentage\n",
    "accuracy=(correct/total)*100\n",
    "print(f\"Accuracy is = {accuracy} %\")"
   ]
  },
  {
   "cell_type": "code",
   "execution_count": null,
   "id": "b9183d4c",
   "metadata": {},
   "outputs": [],
   "source": [
    "#techn=bootstrap , ensloving ,k fold validatn\n"
   ]
  }
 ],
 "metadata": {
  "kernelspec": {
   "display_name": "Python 3 (ipykernel)",
   "language": "python",
   "name": "python3"
  },
  "language_info": {
   "codemirror_mode": {
    "name": "ipython",
    "version": 3
   },
   "file_extension": ".py",
   "mimetype": "text/x-python",
   "name": "python",
   "nbconvert_exporter": "python",
   "pygments_lexer": "ipython3",
   "version": "3.9.16"
  }
 },
 "nbformat": 4,
 "nbformat_minor": 5
}
