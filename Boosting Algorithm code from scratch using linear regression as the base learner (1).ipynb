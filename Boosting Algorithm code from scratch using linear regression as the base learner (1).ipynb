{
 "cells": [
  {
   "cell_type": "markdown",
   "id": "9804a0ab",
   "metadata": {},
   "source": [
    "# Boosting Algorithm code from scratch using linear regression as the base learner"
   ]
  },
  {
   "cell_type": "code",
   "execution_count": 2,
   "id": "49c2a3d7",
   "metadata": {},
   "outputs": [],
   "source": [
    "#STEP-1 import all libraries\n",
    "import pandas as pd\n",
    "import numpy as np\n",
    "import matplotlib.pyplot as plt"
   ]
  },
  {
   "cell_type": "code",
   "execution_count": 3,
   "id": "72c66be2",
   "metadata": {
    "scrolled": true
   },
   "outputs": [
    {
     "name": "stdout",
     "output_type": "stream",
     "text": [
      "   Year        Value1  Value2\n",
      "0  1960  5.918412e+10       2\n",
      "1  1961  4.955705e+10       2\n",
      "2  1962  4.668518e+10       2\n",
      "3  1963  5.009730e+10       2\n",
      "4  1964  5.906225e+10       2\n",
      "(56, 3)\n"
     ]
    }
   ],
   "source": [
    "#STEP-2 import dataset\n",
    "df=pd.read_csv(r\"C:\\Users\\hp\\OneDrive\\Desktop\\china_gdp.csv\")\n",
    "print(df.head())\n",
    "print(df.shape)"
   ]
  },
  {
   "cell_type": "code",
   "execution_count": 4,
   "id": "01fb7a1e",
   "metadata": {
    "scrolled": true
   },
   "outputs": [
    {
     "data": {
      "text/html": [
       "<div>\n",
       "<style scoped>\n",
       "    .dataframe tbody tr th:only-of-type {\n",
       "        vertical-align: middle;\n",
       "    }\n",
       "\n",
       "    .dataframe tbody tr th {\n",
       "        vertical-align: top;\n",
       "    }\n",
       "\n",
       "    .dataframe thead th {\n",
       "        text-align: right;\n",
       "    }\n",
       "</style>\n",
       "<table border=\"1\" class=\"dataframe\">\n",
       "  <thead>\n",
       "    <tr style=\"text-align: right;\">\n",
       "      <th></th>\n",
       "      <th>x1</th>\n",
       "      <th>y</th>\n",
       "      <th>x2</th>\n",
       "    </tr>\n",
       "  </thead>\n",
       "  <tbody>\n",
       "    <tr>\n",
       "      <th>0</th>\n",
       "      <td>1960</td>\n",
       "      <td>5.918412e+10</td>\n",
       "      <td>2</td>\n",
       "    </tr>\n",
       "    <tr>\n",
       "      <th>1</th>\n",
       "      <td>1961</td>\n",
       "      <td>4.955705e+10</td>\n",
       "      <td>2</td>\n",
       "    </tr>\n",
       "    <tr>\n",
       "      <th>2</th>\n",
       "      <td>1962</td>\n",
       "      <td>4.668518e+10</td>\n",
       "      <td>2</td>\n",
       "    </tr>\n",
       "    <tr>\n",
       "      <th>3</th>\n",
       "      <td>1963</td>\n",
       "      <td>5.009730e+10</td>\n",
       "      <td>2</td>\n",
       "    </tr>\n",
       "    <tr>\n",
       "      <th>4</th>\n",
       "      <td>1964</td>\n",
       "      <td>5.906225e+10</td>\n",
       "      <td>2</td>\n",
       "    </tr>\n",
       "  </tbody>\n",
       "</table>\n",
       "</div>"
      ],
      "text/plain": [
       "     x1             y  x2\n",
       "0  1960  5.918412e+10   2\n",
       "1  1961  4.955705e+10   2\n",
       "2  1962  4.668518e+10   2\n",
       "3  1963  5.009730e+10   2\n",
       "4  1964  5.906225e+10   2"
      ]
     },
     "execution_count": 4,
     "metadata": {},
     "output_type": "execute_result"
    }
   ],
   "source": [
    "# STEP-3 preprocessing of data\n",
    "df.apply(pd.to_numeric)\n",
    "df = df.rename(columns={'Year': 'x1', 'Value1': 'y','Value2': 'x2'})\n",
    "df.head()"
   ]
  },
  {
   "cell_type": "code",
   "execution_count": 5,
   "id": "1c6cfb06",
   "metadata": {
    "scrolled": true
   },
   "outputs": [
    {
     "name": "stdout",
     "output_type": "stream",
     "text": [
      "No. of training examples: 55\n",
      "No. of testing examples: 1\n"
     ]
    }
   ],
   "source": [
    "#splitting in training and testing\n",
    "training_data = df.iloc[:55,:]\n",
    "testing_data=df.tail(1)\n",
    "print(f\"No. of training examples: {training_data.shape[0]}\")\n",
    "print(f\"No. of testing examples: {testing_data.shape[0]}\")"
   ]
  },
  {
   "cell_type": "code",
   "execution_count": 6,
   "id": "1db749d8",
   "metadata": {
    "scrolled": true
   },
   "outputs": [],
   "source": [
    "#separating x and y\n",
    "x=training_data.drop('y',axis=1)\n",
    "y=training_data['y']\n",
    "x_test=testing_data.drop('y',axis=1)\n",
    "y_test=testing_data['y']\n",
    "#converting into numpy arrays\n",
    "x = np.array(x)\n",
    "y = np.array(y)\n",
    "x_test = np.array(x_test)\n",
    "y_test = np.array(y_test)"
   ]
  },
  {
   "cell_type": "code",
   "execution_count": 7,
   "id": "d15bfa56",
   "metadata": {},
   "outputs": [],
   "source": [
    "#standardlizing\n",
    "from sklearn.preprocessing import StandardScaler\n",
    "scaler=StandardScaler()\n",
    "x=scaler.fit_transform(x)\n",
    "#x"
   ]
  },
  {
   "cell_type": "code",
   "execution_count": 8,
   "id": "54f7ac61",
   "metadata": {},
   "outputs": [
    {
     "data": {
      "text/plain": [
       "array([0.01785714, 0.01785714, 0.01785714, 0.01785714, 0.01785714,\n",
       "       0.01785714, 0.01785714, 0.01785714, 0.01785714, 0.01785714,\n",
       "       0.01785714, 0.01785714, 0.01785714, 0.01785714, 0.01785714,\n",
       "       0.01785714, 0.01785714, 0.01785714, 0.01785714, 0.01785714,\n",
       "       0.01785714, 0.01785714, 0.01785714, 0.01785714, 0.01785714,\n",
       "       0.01785714, 0.01785714, 0.01785714, 0.01785714, 0.01785714,\n",
       "       0.01785714, 0.01785714, 0.01785714, 0.01785714, 0.01785714,\n",
       "       0.01785714, 0.01785714, 0.01785714, 0.01785714, 0.01785714,\n",
       "       0.01785714, 0.01785714, 0.01785714, 0.01785714, 0.01785714,\n",
       "       0.01785714, 0.01785714, 0.01785714, 0.01785714, 0.01785714,\n",
       "       0.01785714, 0.01785714, 0.01785714, 0.01785714, 0.01785714])"
      ]
     },
     "execution_count": 8,
     "metadata": {},
     "output_type": "execute_result"
    }
   ],
   "source": [
    " #initializing equal weights\n",
    "# df['weights']=1/df.shape[0]  #1/total no. of rows \n",
    "weights = np.array([1/df.shape[0] for _ in range(len(x))])\n",
    "weights = weights.reshape(weights.shape[0],)\n",
    "weights"
   ]
  },
  {
   "cell_type": "code",
   "execution_count": 9,
   "id": "a4fbc881",
   "metadata": {},
   "outputs": [],
   "source": [
    "#Training the model\n",
    "#assumed value of m and c\n",
    "m=np.random.randn(x.shape[1])\n",
    "c=0"
   ]
  },
  {
   "cell_type": "code",
   "execution_count": 10,
   "id": "ea347c4d",
   "metadata": {
    "scrolled": true
   },
   "outputs": [
    {
     "data": {
      "text/plain": [
       "array([-0.29897422, -1.01943722])"
      ]
     },
     "execution_count": 10,
     "metadata": {},
     "output_type": "execute_result"
    }
   ],
   "source": [
    "m"
   ]
  },
  {
   "cell_type": "code",
   "execution_count": 11,
   "id": "72360252",
   "metadata": {},
   "outputs": [],
   "source": [
    "mse_list=[]\n",
    "epoch=[]     \n",
    "lr=0.01\n",
    "for i in range(100):\n",
    "    for j in range(x.shape[1]):  \n",
    "        x[:,j] *= weights\n",
    "        y_pred=c+np.dot(x,m)\n",
    "        loss=y_pred-y #calculating loss\n",
    "        mse=np.mean((y-y_pred)**2)\n",
    "        dm=np.dot(x.T,loss)\n",
    "        dc=np.sum(loss)\n",
    "        m = m - lr*dm\n",
    "        c = c - lr*dc\n",
    "    mse_list.append(mse)\n",
    "    epoch.append(i)\n",
    "    #labeling the loss values if loss>mean of loss then 1 else 0\n",
    "    error_thresher = np.array([1 if j>loss.mean() else 0 for j in loss])\n",
    "    error = np.sum(weights* error_thresher)\n",
    "    #importance; performance\n",
    "    imp = error/(1-error) \n",
    "    #update weights\n",
    "    weights = np.array([weights[j]*np.exp(-imp) if error_thresher[j]==1 else weights[j]*np.exp(-imp) for j in range(len(weights))])"
   ]
  },
  {
   "cell_type": "code",
   "execution_count": 12,
   "id": "d89f3df8",
   "metadata": {},
   "outputs": [
    {
     "data": {
      "text/plain": [
       "array([ 3.52775341e+10, -1.01943722e+00])"
      ]
     },
     "execution_count": 12,
     "metadata": {},
     "output_type": "execute_result"
    }
   ],
   "source": [
    "#checking coefficients of both feature\n",
    "m"
   ]
  },
  {
   "cell_type": "code",
   "execution_count": 13,
   "id": "a36e6f97",
   "metadata": {},
   "outputs": [
    {
     "data": {
      "image/png": "[encoded data removed]",
      "text/plain": [
       "<Figure size 432x288 with 1 Axes>"
      ]
     },
     "metadata": {
      "needs_background": "light"
     },
     "output_type": "display_data"
    }
   ],
   "source": [
    "# plot feature importance\n",
    "plt.bar([1,2],m)\n",
    "plt.show()"
   ]
  },
  {
   "cell_type": "code",
   "execution_count": 15,
   "id": "dbb922c0",
   "metadata": {},
   "outputs": [
    {
     "data": {
      "text/plain": [
       "1437854764969.2363"
      ]
     },
     "execution_count": 15,
     "metadata": {},
     "output_type": "execute_result"
    }
   ],
   "source": [
    "y_pred[8]"
   ]
  },
  {
   "cell_type": "code",
   "execution_count": 16,
   "id": "937e5e92",
   "metadata": {
    "scrolled": true
   },
   "outputs": [
    {
     "data": {
      "image/png": "[encoded data removed]",
      "text/plain": [
       "<Figure size 432x288 with 1 Axes>"
      ]
     },
     "metadata": {
      "needs_background": "light"
     },
     "output_type": "display_data"
    }
   ],
   "source": [
    "#plotting MSE plot with 100 iterations\n",
    "plt.plot(epoch,mse_list)\n",
    "plt.xlabel(\"Epoch(number of iteration)\")\n",
    "plt.ylabel(\"mse\")\n",
    "plt.show()"
   ]
  },
  {
   "cell_type": "code",
   "execution_count": 17,
   "id": "faffa661",
   "metadata": {},
   "outputs": [
    {
     "data": {
      "text/plain": [
       "array([7.25220859e+13])"
      ]
     },
     "execution_count": 17,
     "metadata": {},
     "output_type": "execute_result"
    }
   ],
   "source": [
    "#testing\n",
    "y_p=c+np.dot(x_test,m)\n",
    "y_p"
   ]
  },
  {
   "cell_type": "code",
   "execution_count": 18,
   "id": "ef2c2c08",
   "metadata": {},
   "outputs": [
    {
     "data": {
      "text/plain": [
       "0.0"
      ]
     },
     "execution_count": 18,
     "metadata": {},
     "output_type": "execute_result"
    }
   ],
   "source": [
    "from sklearn.metrics import r2_score\n",
    "a=r2_score(y,y_pred)\n",
    "a"
   ]
  },
  {
   "cell_type": "code",
   "execution_count": 19,
   "id": "2fab8910",
   "metadata": {
    "scrolled": true
   },
   "outputs": [
    {
     "data": {
      "text/plain": [
       "6.150364622641049e+24"
      ]
     },
     "execution_count": 19,
     "metadata": {},
     "output_type": "execute_result"
    }
   ],
   "source": [
    "mse"
   ]
  },
  {
   "cell_type": "markdown",
   "id": "1491fdde",
   "metadata": {},
   "source": [
    "FROM SKLEARN"
   ]
  },
  {
   "cell_type": "code",
   "execution_count": 20,
   "id": "9b0908df",
   "metadata": {},
   "outputs": [
    {
     "data": {
      "text/plain": [
       "array([231.93828876])"
      ]
     },
     "execution_count": 20,
     "metadata": {},
     "output_type": "execute_result"
    }
   ],
   "source": [
    "from sklearn.ensemble import AdaBoostRegressor\n",
    "from sklearn.datasets import make_regression\n",
    "x, y = make_regression(n_features=2,random_state=0, shuffle=False)\n",
    "regr = AdaBoostRegressor(random_state=0, n_estimators=100)\n",
    "regr.fit(x, y)\n",
    "AdaBoostRegressor(n_estimators=100, random_state=0)\n",
    "regr.predict(x_test)"
   ]
  },
  {
   "cell_type": "code",
   "execution_count": 21,
   "id": "7640ea75",
   "metadata": {},
   "outputs": [
    {
     "data": {
      "text/plain": [
       "0.981507053619597"
      ]
     },
     "execution_count": 21,
     "metadata": {},
     "output_type": "execute_result"
    }
   ],
   "source": [
    "regr.score(x, y)"
   ]
  },
  {
   "cell_type": "code",
   "execution_count": 24,
   "id": "3b89957a",
   "metadata": {},
   "outputs": [
    {
     "name": "stdout",
     "output_type": "stream",
     "text": [
      "Feature: 0, Score: 87.91986\n",
      "Feature: 1, Score: 16.88002\n"
     ]
    },
    {
     "data": {
      "image/png": "[encoded data removed]",
      "text/plain": [
       "<Figure size 432x288 with 1 Axes>"
      ]
     },
     "metadata": {
      "needs_background": "light"
     },
     "output_type": "display_data"
    }
   ],
   "source": [
    "from sklearn.datasets import make_regression\n",
    "from sklearn.linear_model import LinearRegression\n",
    "from matplotlib import pyplot\n",
    "# define dataset\n",
    "x, y = make_regression(n_samples=1000, n_features=2, n_informative=5, random_state=1)\n",
    "# define the mod\n",
    "model = LinearRegression()\n",
    "# fit the model\n",
    "model.fit(x, y)\n",
    "# get importance\n",
    "importance = model.coef_\n",
    "# summarize feature importance\n",
    "for i,v in enumerate(importance):\n",
    "    print('Feature: %0d, Score: %.5f' % (i,v))\n",
    "# plot feature importance\n",
    "pyplot.bar([x for x in range(len(importance))], importance)\n",
    "pyplot.show()"
   ]
  },
  {
   "cell_type": "code",
   "execution_count": null,
   "id": "cf2f3eec",
   "metadata": {},
   "outputs": [],
   "source": []
  }
 ],
 "metadata": {
  "kernelspec": {
   "display_name": "Python 3 (ipykernel)",
   "language": "python",
   "name": "python3"
  },
  "language_info": {
   "codemirror_mode": {
    "name": "ipython",
    "version": 3
   },
   "file_extension": ".py",
   "mimetype": "text/x-python",
   "name": "python",
   "nbconvert_exporter": "python",
   "pygments_lexer": "ipython3",
   "version": "3.9.16"
  }
 },
 "nbformat": 4,
 "nbformat_minor": 5
}
