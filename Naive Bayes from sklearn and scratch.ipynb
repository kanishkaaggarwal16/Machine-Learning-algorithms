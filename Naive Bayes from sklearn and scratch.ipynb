{
 "cells": [
  {
   "cell_type": "markdown",
   "id": "965b72bd",
   "metadata": {},
   "source": [
    "# Naive Bayes from sklearn and scratch"
   ]
  },
  {
   "cell_type": "markdown",
   "id": "1b914b4f",
   "metadata": {},
   "source": [
    "Naive Bayes from scratch"
   ]
  },
  {
   "cell_type": "code",
   "execution_count": 89,
   "id": "5f207ab5",
   "metadata": {},
   "outputs": [],
   "source": [
    "#creating a dataset\n",
    "import matplotlib.pyplot as plt\n",
    "import numpy as np\n",
    "import pandas as pd\n",
    "df_train=pd.DataFrame({'GENE A':[1,1,0,-1,-1,-1,0,1,1,-1,1,0,0,-1],'GENE B':[1,1,1,0,-1,-1,-1,0,-1,0,0,0,1,0],'GENE C':[1,1,1,1,0,0,0,1,0,0,0,1,0,1],'GENE D':[0,1,0,0,0,1,1,0,0,0,1,1,0,1],'y':[0,0,1,1,1,0,1,0,1,1,1,1,1,0]})\n",
    "df_test=pd.DataFrame({'GENE A':[1],'GENE B':[12],'GENE C':[1],'GENE D':[1]})\n",
    "df_train=df_train.to_numpy()\n",
    "df_test=df_test.to_numpy()          #n=0,t=1"
   ]
  },
  {
   "cell_type": "code",
   "execution_count": 90,
   "id": "ebad42a2",
   "metadata": {},
   "outputs": [],
   "source": [
    "x=df_train[:,0:4]\n",
    "yt=df_train[:,-1]"
   ]
  },
  {
   "cell_type": "code",
   "execution_count": 91,
   "id": "8fbac9e5",
   "metadata": {},
   "outputs": [
    {
     "data": {
      "text/plain": [
       "array([[ 1,  1,  1,  0],\n",
       "       [ 1,  1,  1,  1],\n",
       "       [ 0,  1,  1,  0],\n",
       "       [-1,  0,  1,  0],\n",
       "       [-1, -1,  0,  0],\n",
       "       [-1, -1,  0,  1],\n",
       "       [ 0, -1,  0,  1],\n",
       "       [ 1,  0,  1,  0],\n",
       "       [ 1, -1,  0,  0],\n",
       "       [-1,  0,  0,  0],\n",
       "       [ 1,  0,  0,  1],\n",
       "       [ 0,  0,  1,  1],\n",
       "       [ 0,  1,  0,  0],\n",
       "       [-1,  0,  1,  1]], dtype=int64)"
      ]
     },
     "execution_count": 91,
     "metadata": {},
     "output_type": "execute_result"
    }
   ],
   "source": [
    "x"
   ]
  },
  {
   "cell_type": "code",
   "execution_count": 92,
   "id": "5a1de92d",
   "metadata": {},
   "outputs": [
    {
     "data": {
      "text/plain": [
       "array([0, 0, 1, 1, 1, 0, 1, 0, 1, 1, 1, 1, 1, 0], dtype=int64)"
      ]
     },
     "execution_count": 92,
     "metadata": {},
     "output_type": "execute_result"
    }
   ],
   "source": [
    "yt"
   ]
  },
  {
   "cell_type": "code",
   "execution_count": 93,
   "id": "a00cd094",
   "metadata": {},
   "outputs": [
    {
     "name": "stdout",
     "output_type": "stream",
     "text": [
      "P(Normal) 0.35714285714285715\n",
      "P(Tumor) 0.6428571428571429\n"
     ]
    }
   ],
   "source": [
    "normal = 0\n",
    "tumor = 0\n",
    "for i  in range(0,14):\n",
    "    if y[i] == 0:\n",
    "        normal += 1 \n",
    "    else:\n",
    "        tumor += 1\n",
    "P_N = normal/(normal+tumor)\n",
    "P_T = tumor/(normal+tumor)\n",
    "print('P(Normal)' , P_N)\n",
    "print('P(Tumor)' , P_T )"
   ]
  },
  {
   "cell_type": "code",
   "execution_count": 111,
   "id": "6e6542d4",
   "metadata": {},
   "outputs": [],
   "source": [
    "#x1=n\n",
    "n0=0\n",
    "n1=0\n",
    "n2=0\n",
    "for i  in range(0,14):\n",
    "    if x[i][0] == 0 and y[i] == 0:\n",
    "        n0 += 1\n",
    "    elif x[i][0] == 1 and y[i] == 0:\n",
    "        n1 += 1\n",
    "    elif x[i][0] == -1 and y[i] == 0:\n",
    "        n2 +=1"
   ]
  },
  {
   "cell_type": "code",
   "execution_count": 112,
   "id": "743563dc",
   "metadata": {},
   "outputs": [],
   "source": [
    "normal1=[n0,n1,n2]"
   ]
  },
  {
   "cell_type": "code",
   "execution_count": 113,
   "id": "27d9aee9",
   "metadata": {},
   "outputs": [],
   "source": [
    "#x1=t\n",
    "t0=0\n",
    "t1=0\n",
    "t2=0\n",
    "for i  in range(0,14):\n",
    "    if x[i][0] == 0 and y[i] == 1:\n",
    "        t0 += 1\n",
    "    elif x[i][0] == 1 and y[i] == 1:\n",
    "        t1 += 1\n",
    "    elif x[i][0] == -1 and y[i] == 1:\n",
    "        t2 +=1"
   ]
  },
  {
   "cell_type": "code",
   "execution_count": 114,
   "id": "17bfe5fa",
   "metadata": {},
   "outputs": [],
   "source": [
    "tumor1=[t0,t1,t2]"
   ]
  },
  {
   "cell_type": "code",
   "execution_count": 115,
   "id": "f0767c2d",
   "metadata": {},
   "outputs": [],
   "source": [
    "#x2=n\n",
    "n0_2=0\n",
    "n1_2=0\n",
    "n2_2=0\n",
    "for i  in range(0,14):\n",
    "    if x[i][0] == 0 and y[i] == 0:\n",
    "        n0_2 += 1\n",
    "    elif x[i][0] == 1 and y[i] == 0:\n",
    "        n1_2 += 1\n",
    "    elif x[i][0] == -1 and y[i] == 0:\n",
    "        n2_2+=1"
   ]
  },
  {
   "cell_type": "code",
   "execution_count": 116,
   "id": "5d51c53d",
   "metadata": {},
   "outputs": [],
   "source": [
    "normal2=[n0_2,n1_2,n2_2]"
   ]
  },
  {
   "cell_type": "code",
   "execution_count": 117,
   "id": "474ac733",
   "metadata": {},
   "outputs": [],
   "source": [
    "#x2=t\n",
    "t0_2=0\n",
    "t1_2=0\n",
    "t2_2=0\n",
    "for i  in range(0,14):\n",
    "    if x[i][0] == 0 and y[i] == 1:\n",
    "        t0_2 += 1\n",
    "    elif x[i][0] == 1 and y[i] == 1:\n",
    "        t1_2 += 1\n",
    "    elif x[i][0] == -1 and y[i] == 1:\n",
    "        t2_2 +=1"
   ]
  },
  {
   "cell_type": "code",
   "execution_count": 118,
   "id": "b0f35e5b",
   "metadata": {},
   "outputs": [],
   "source": [
    "tumor2=[t0_2,t1_2,t2_2]"
   ]
  },
  {
   "cell_type": "code",
   "execution_count": 119,
   "id": "97003717",
   "metadata": {},
   "outputs": [],
   "source": [
    "#x3=n\n",
    "n0_3=0\n",
    "n1_3=0\n",
    "n2_3=0\n",
    "for i  in range(0,14):\n",
    "    if x[i][0] == 0 and y[i] == 0:\n",
    "        n0_3 += 1\n",
    "    elif x[i][0] == 1 and y[i] == 0:\n",
    "        n1_3 += 1\n",
    "    elif x[i][0] == -1 and y[i] == 0:\n",
    "        n2_3 +=1"
   ]
  },
  {
   "cell_type": "code",
   "execution_count": 120,
   "id": "2a7efee5",
   "metadata": {},
   "outputs": [],
   "source": [
    "normal3=[n0_3,n1_3,n2_3]"
   ]
  },
  {
   "cell_type": "code",
   "execution_count": 121,
   "id": "ca3aa958",
   "metadata": {},
   "outputs": [],
   "source": [
    "#x3=t\n",
    "t0_3=0\n",
    "t1_3=0\n",
    "t2_3=0\n",
    "for i  in range(0,14):\n",
    "    if x[i][0] == 0 and y[i] == 1:\n",
    "        t0_3 += 1\n",
    "    elif x[i][0] == 1 and y[i] == 1:\n",
    "        t1_3 += 1\n",
    "    elif x[i][0] == -1 and y[i] == 1:\n",
    "        t2_3 +=1"
   ]
  },
  {
   "cell_type": "code",
   "execution_count": 122,
   "id": "993e4b4d",
   "metadata": {},
   "outputs": [],
   "source": [
    "tumor3=[t0_3,t1_3,t2_3]"
   ]
  },
  {
   "cell_type": "code",
   "execution_count": 124,
   "id": "246eabfd",
   "metadata": {},
   "outputs": [],
   "source": [
    "#x4=n\n",
    "n0_4=0\n",
    "n1_4=0\n",
    "n2_4=0\n",
    "for i  in range(0,14):\n",
    "    if x[i][0] == 0 and y[i] == 0:\n",
    "        n0_4 += 1\n",
    "    elif x[i][0] == 1 and y[i] == 0:\n",
    "        n1_4 += 1\n",
    "    elif x[i][0] == -1 and y[i] == 0:\n",
    "        n2_4 +=1"
   ]
  },
  {
   "cell_type": "code",
   "execution_count": 125,
   "id": "6883de97",
   "metadata": {},
   "outputs": [],
   "source": [
    "normal4=[n0_4,n1_4,n2_4]"
   ]
  },
  {
   "cell_type": "code",
   "execution_count": 126,
   "id": "64358f40",
   "metadata": {},
   "outputs": [],
   "source": [
    "#x4=t\n",
    "t0_4=0\n",
    "t1_4=0\n",
    "t2_4=0\n",
    "for i  in range(0,14):\n",
    "    if x[i][0] == 0 and y[i] == 1:\n",
    "        t0_4 += 1\n",
    "    elif x[i][0] == 1 and y[i] == 1:\n",
    "        t1_4 += 1\n",
    "    elif x[i][0] == -1 and y[i] == 1:\n",
    "        t2_4 +=1"
   ]
  },
  {
   "cell_type": "code",
   "execution_count": 127,
   "id": "fcb36dff",
   "metadata": {},
   "outputs": [],
   "source": [
    "tumor4=[t0_4,t1_4,t2_4]"
   ]
  },
  {
   "cell_type": "code",
   "execution_count": 128,
   "id": "ad823416",
   "metadata": {},
   "outputs": [
    {
     "name": "stdout",
     "output_type": "stream",
     "text": [
      "[0, 3, 2]\n",
      "[4, 2, 3]\n",
      "[0, 3, 2]\n",
      "[4, 2, 3]\n",
      "[0, 3, 2]\n",
      "[4, 2, 3]\n",
      "[0, 3, 2]\n",
      "[4, 2, 3]\n"
     ]
    }
   ],
   "source": [
    "#normal=0 and 1 means for feature 1\n",
    "print(normal1)\n",
    "print(tumor1)\n",
    "print(normal2)\n",
    "print(tumor2)\n",
    "print(normal3)\n",
    "print(tumor3)\n",
    "print(normal4)\n",
    "print(tumor4)"
   ]
  },
  {
   "cell_type": "code",
   "execution_count": null,
   "id": "19367e3d",
   "metadata": {},
   "outputs": [],
   "source": [
    "def test():\n",
    "    normal_test=[]\n",
    "    tumor_test=[]\n",
    "    for i in range():\n",
    "        normal_test.append\n",
    "        "
   ]
  },
  {
   "cell_type": "code",
   "execution_count": null,
   "id": "8e47cf96",
   "metadata": {},
   "outputs": [],
   "source": []
  },
  {
   "cell_type": "markdown",
   "id": "ce214bc5",
   "metadata": {},
   "source": [
    "Naive Bayes from sklearn"
   ]
  },
  {
   "cell_type": "code",
   "execution_count": 60,
   "id": "aaf20305",
   "metadata": {},
   "outputs": [],
   "source": [
    "#Import Gaussian Naive Bayes model\n",
    "from sklearn.naive_bayes import GaussianNB\n",
    "\n",
    "#Create a Gaussian Classifier\n",
    "gnb = GaussianNB()\n",
    "\n",
    "#Train the model using the training sets\n",
    "gnb.fit(x, yt)\n",
    "\n",
    "#Predict the response for test dataset\n",
    "y_pred = gnb.predict(xt)"
   ]
  },
  {
   "cell_type": "code",
   "execution_count": 66,
   "id": "7c06dc66",
   "metadata": {},
   "outputs": [
    {
     "data": {
      "text/plain": [
       "array([0], dtype=int64)"
      ]
     },
     "execution_count": 66,
     "metadata": {},
     "output_type": "execute_result"
    }
   ],
   "source": [
    "y_pred #that is normal"
   ]
  },
  {
   "cell_type": "code",
   "execution_count": null,
   "id": "47cdbcb7",
   "metadata": {},
   "outputs": [],
   "source": []
  }
 ],
 "metadata": {
  "kernelspec": {
   "display_name": "Python 3 (ipykernel)",
   "language": "python",
   "name": "python3"
  },
  "language_info": {
   "codemirror_mode": {
    "name": "ipython",
    "version": 3
   },
   "file_extension": ".py",
   "mimetype": "text/x-python",
   "name": "python",
   "nbconvert_exporter": "python",
   "pygments_lexer": "ipython3",
   "version": "3.9.16"
  }
 },
 "nbformat": 4,
 "nbformat_minor": 5
}
