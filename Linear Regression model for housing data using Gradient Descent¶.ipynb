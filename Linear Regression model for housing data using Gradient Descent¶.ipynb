{
 "cells": [
  {
   "cell_type": "markdown",
   "id": "d3780f2d",
   "metadata": {},
   "source": [
    "# Multiply the value of x by 1000 and then plot the loss vs epochs."
   ]
  },
  {
   "cell_type": "code",
   "execution_count": 1,
   "id": "1e42c0bd",
   "metadata": {},
   "outputs": [],
   "source": [
    "#making the imports\n",
    "import numpy as np\n",
    "import matplotlib.pyplot as plt\n",
    "\n",
    "#generating dataset\n",
    "def model(x,noise=False,mean=0,var=0.25):\n",
    "    if not noise: return x\n",
    "    \n",
    "    return x + np.random.normal(mean,var,x.shape)\n",
    "    \n",
    "x = np.linspace(-1,10,50)*1000 "
   ]
  },
  {
   "cell_type": "code",
   "execution_count": 2,
   "id": "61fbb9ba",
   "metadata": {},
   "outputs": [],
   "source": [
    "#standardlizing\n",
    "x_transform = []\n",
    "for i in range(len(x)):\n",
    "    x_transform.append((x[i]-min(x))/(max(x)-min(x)))\n",
    "x_transform = np.array(x_transform)\n",
    "y = model(x_transform,True)"
   ]
  },
  {
   "cell_type": "code",
   "execution_count": 3,
   "id": "a61e3b5c",
   "metadata": {},
   "outputs": [
    {
     "data": {
      "text/plain": [
       "[<matplotlib.lines.Line2D at 0x22546b96fa0>]"
      ]
     },
     "execution_count": 3,
     "metadata": {},
     "output_type": "execute_result"
    },
    {
     "data": {
      "image/png": "[encoded data removed]",
      "text/plain": [
       "<Figure size 432x288 with 1 Axes>"
      ]
     },
     "metadata": {
      "needs_background": "light"
     },
     "output_type": "display_data"
    }
   ],
   "source": [
    "plt.scatter(x_transform,y,color = \"green\")\n",
    "plt.plot(x_transform,x_transform)"
   ]
  },
  {
   "cell_type": "code",
   "execution_count": 4,
   "id": "70aafa93",
   "metadata": {},
   "outputs": [],
   "source": [
    "#calculating mse\n",
    "def mse(yt,yp):\n",
    "    return (np.sum((yt-yp)**2)/len(yt))\n",
    "\n",
    "def updates(yt,yp,x,lr,m,c):\n",
    "    m = m- lr*((-x)*(np.sum(yt-yp)/len(yt))*2)\n",
    "    c = c- lr*((-1)*(np.sum(yt-yp)/len(yt))*2)\n",
    "\n",
    "    return m,c"
   ]
  },
  {
   "cell_type": "code",
   "execution_count": 5,
   "id": "401ecc8c",
   "metadata": {},
   "outputs": [
    {
     "data": {
      "text/plain": [
       "(2.8948577798109927, 27.127986007393037)"
      ]
     },
     "execution_count": 5,
     "metadata": {},
     "output_type": "execute_result"
    },
    {
     "data": {
      "image/png": "[encoded data removed]",
      "text/plain": [
       "<Figure size 432x288 with 1 Axes>"
      ]
     },
     "metadata": {
      "needs_background": "light"
     },
     "output_type": "display_data"
    }
   ],
   "source": [
    "#taking random value of m and c\n",
    "m=10\n",
    "c=0\n",
    "lr=0.1\n",
    "\n",
    "total_loss = []\n",
    "for i in range(100):\n",
    "    yp = m*x_transform + c    \n",
    "    loss = mse(y,yp)\n",
    "    total_loss.append(loss)\n",
    "    m,c = updates(y,yp,x_transform,lr,m,c)\n",
    "\n",
    "plt.plot(total_loss)\n",
    "plt.title('loss vs epoch')\n",
    "total_loss[-1], total_loss[0]"
   ]
  },
  {
   "cell_type": "markdown",
   "id": "31ff99f1",
   "metadata": {},
   "source": [
    "# Linear Regression model for housing data using Gradient Descent"
   ]
  },
  {
   "cell_type": "code",
   "execution_count": 6,
   "id": "f34030fc",
   "metadata": {},
   "outputs": [],
   "source": [
    "import matplotlib.pyplot as plt\n",
    "import numpy as np\n",
    "import pandas as pd"
   ]
  },
  {
   "cell_type": "code",
   "execution_count": 1,
   "id": "4cd67312",
   "metadata": {},
   "outputs": [],
   "source": [
    "#loading dataset\n",
    "#data handling\n",
    "import pandas as pd\n",
    "df=pd.read_csv(r\"C:\\Users\\hp\\OneDrive\\Desktop\\Real estate.csv\")"
   ]
  },
  {
   "cell_type": "code",
   "execution_count": 2,
   "id": "6001d52d",
   "metadata": {},
   "outputs": [
    {
     "data": {
      "text/html": [
       "<div>\n",
       "<style scoped>\n",
       "    .dataframe tbody tr th:only-of-type {\n",
       "        vertical-align: middle;\n",
       "    }\n",
       "\n",
       "    .dataframe tbody tr th {\n",
       "        vertical-align: top;\n",
       "    }\n",
       "\n",
       "    .dataframe thead th {\n",
       "        text-align: right;\n",
       "    }\n",
       "</style>\n",
       "<table border=\"1\" class=\"dataframe\">\n",
       "  <thead>\n",
       "    <tr style=\"text-align: right;\">\n",
       "      <th></th>\n",
       "      <th>No</th>\n",
       "      <th>X1 transaction date</th>\n",
       "      <th>X2 house age</th>\n",
       "      <th>X3 distance to the nearest MRT station</th>\n",
       "      <th>X4 number of convenience stores</th>\n",
       "      <th>X5 latitude</th>\n",
       "      <th>X6 longitude</th>\n",
       "      <th>Y house price of unit area</th>\n",
       "    </tr>\n",
       "  </thead>\n",
       "  <tbody>\n",
       "    <tr>\n",
       "      <th>0</th>\n",
       "      <td>1</td>\n",
       "      <td>2012.917</td>\n",
       "      <td>32.0</td>\n",
       "      <td>84.87882</td>\n",
       "      <td>10</td>\n",
       "      <td>24.98298</td>\n",
       "      <td>121.54024</td>\n",
       "      <td>37.9</td>\n",
       "    </tr>\n",
       "    <tr>\n",
       "      <th>1</th>\n",
       "      <td>2</td>\n",
       "      <td>2012.917</td>\n",
       "      <td>19.5</td>\n",
       "      <td>306.59470</td>\n",
       "      <td>9</td>\n",
       "      <td>24.98034</td>\n",
       "      <td>121.53951</td>\n",
       "      <td>42.2</td>\n",
       "    </tr>\n",
       "    <tr>\n",
       "      <th>2</th>\n",
       "      <td>3</td>\n",
       "      <td>2013.583</td>\n",
       "      <td>13.3</td>\n",
       "      <td>561.98450</td>\n",
       "      <td>5</td>\n",
       "      <td>24.98746</td>\n",
       "      <td>121.54391</td>\n",
       "      <td>47.3</td>\n",
       "    </tr>\n",
       "    <tr>\n",
       "      <th>3</th>\n",
       "      <td>4</td>\n",
       "      <td>2013.500</td>\n",
       "      <td>13.3</td>\n",
       "      <td>561.98450</td>\n",
       "      <td>5</td>\n",
       "      <td>24.98746</td>\n",
       "      <td>121.54391</td>\n",
       "      <td>54.8</td>\n",
       "    </tr>\n",
       "    <tr>\n",
       "      <th>4</th>\n",
       "      <td>5</td>\n",
       "      <td>2012.833</td>\n",
       "      <td>5.0</td>\n",
       "      <td>390.56840</td>\n",
       "      <td>5</td>\n",
       "      <td>24.97937</td>\n",
       "      <td>121.54245</td>\n",
       "      <td>43.1</td>\n",
       "    </tr>\n",
       "  </tbody>\n",
       "</table>\n",
       "</div>"
      ],
      "text/plain": [
       "   No  X1 transaction date  X2 house age  \\\n",
       "0   1             2012.917          32.0   \n",
       "1   2             2012.917          19.5   \n",
       "2   3             2013.583          13.3   \n",
       "3   4             2013.500          13.3   \n",
       "4   5             2012.833           5.0   \n",
       "\n",
       "   X3 distance to the nearest MRT station  X4 number of convenience stores  \\\n",
       "0                                84.87882                               10   \n",
       "1                               306.59470                                9   \n",
       "2                               561.98450                                5   \n",
       "3                               561.98450                                5   \n",
       "4                               390.56840                                5   \n",
       "\n",
       "   X5 latitude  X6 longitude  Y house price of unit area  \n",
       "0     24.98298     121.54024                        37.9  \n",
       "1     24.98034     121.53951                        42.2  \n",
       "2     24.98746     121.54391                        47.3  \n",
       "3     24.98746     121.54391                        54.8  \n",
       "4     24.97937     121.54245                        43.1  "
      ]
     },
     "execution_count": 2,
     "metadata": {},
     "output_type": "execute_result"
    }
   ],
   "source": [
    "df.head()"
   ]
  },
  {
   "cell_type": "code",
   "execution_count": 8,
   "id": "e54fc895",
   "metadata": {},
   "outputs": [
    {
     "name": "stdout",
     "output_type": "stream",
     "text": [
      "(414, 8)\n"
     ]
    }
   ],
   "source": [
    "print(df.shape)\n",
    "#print(df.head)"
   ]
  },
  {
   "cell_type": "code",
   "execution_count": 9,
   "id": "9f5b3534",
   "metadata": {},
   "outputs": [],
   "source": [
    "df.drop(['No'],axis=1,inplace=True)"
   ]
  },
  {
   "cell_type": "code",
   "execution_count": 10,
   "id": "f652c248",
   "metadata": {},
   "outputs": [
    {
     "name": "stdout",
     "output_type": "stream",
     "text": [
      "No. of training examples: 331\n",
      "No. of testing examples: 83\n"
     ]
    }
   ],
   "source": [
    "#splitting in 80:20 ratio, as more suitable\n",
    "training_data = df.sample(frac=0.8, random_state=25)\n",
    "testing_data = df.drop(training_data.index)\n",
    "\n",
    "print(f\"No. of training examples: {training_data.shape[0]}\")\n",
    "print(f\"No. of testing examples: {testing_data.shape[0]}\")"
   ]
  },
  {
   "cell_type": "code",
   "execution_count": 11,
   "id": "5390f2a6",
   "metadata": {},
   "outputs": [],
   "source": [
    "x=training_data.drop('Y house price of unit area',axis=1)\n",
    "y=training_data['Y house price of unit area']"
   ]
  },
  {
   "cell_type": "code",
   "execution_count": 12,
   "id": "06b4ad72",
   "metadata": {},
   "outputs": [],
   "source": [
    "x_test=testing_data.drop('Y house price of unit area',axis=1)\n",
    "y_test=testing_data['Y house price of unit area']\n",
    "#y"
   ]
  },
  {
   "cell_type": "code",
   "execution_count": 24,
   "id": "77586e1d",
   "metadata": {},
   "outputs": [],
   "source": [
    "#standardlizing\n",
    "x=x.apply(lambda s:(s-s.mean())/s.std(),axis=0)"
   ]
  },
  {
   "cell_type": "code",
   "execution_count": 14,
   "id": "33030f0d",
   "metadata": {},
   "outputs": [
    {
     "name": "stdout",
     "output_type": "stream",
     "text": [
      "(331, 6)\n",
      "(331,)\n",
      "(83, 6)\n",
      "(83,)\n"
     ]
    }
   ],
   "source": [
    "print(x.shape)\n",
    "print(y.shape)\n",
    "print(x_test.shape)\n",
    "print(y_test.shape)"
   ]
  },
  {
   "cell_type": "code",
   "execution_count": 15,
   "id": "84077479",
   "metadata": {},
   "outputs": [],
   "source": [
    "#assumed value of m and c\n",
    "m=np.random.randn(x.shape[1])\n",
    "c=0"
   ]
  },
  {
   "cell_type": "code",
   "execution_count": 27,
   "id": "89855f11",
   "metadata": {},
   "outputs": [
    {
     "name": "stdout",
     "output_type": "stream",
     "text": [
      "[ 1.32053363 -2.95671864 -4.65581637  4.28639239  2.63899628  0.47655118]\n"
     ]
    }
   ],
   "source": [
    "print(m)"
   ]
  },
  {
   "cell_type": "code",
   "execution_count": 17,
   "id": "5720a1eb",
   "metadata": {},
   "outputs": [],
   "source": [
    "mse_list=[]\n",
    "epoch=[]     #epoch(no. of iterations)\n",
    "lr=0.01\n",
    "for i in range(1000):\n",
    "    y_pred=c+np.dot(x,m)\n",
    "    mse=np.mean((y-y_pred)**2)\n",
    "    dm=(np.dot((y-y_pred),x)*-2)/len(y)\n",
    "    dc=(np.mean(y-y_pred)*-2)\n",
    "    m = m - lr*dm\n",
    "    c = c - lr*dc\n",
    "    mse_list.append(mse)\n",
    "    epoch.append(i)"
   ]
  },
  {
   "cell_type": "code",
   "execution_count": 29,
   "id": "cfd3109e",
   "metadata": {},
   "outputs": [],
   "source": [
    "#mse\n",
    "#y\n",
    "#mse_list"
   ]
  },
  {
   "cell_type": "code",
   "execution_count": 19,
   "id": "96b0e82f",
   "metadata": {},
   "outputs": [
    {
     "data": {
      "image/png": "[encoded data removed]",
      "text/plain": [
       "<Figure size 432x288 with 1 Axes>"
      ]
     },
     "metadata": {
      "needs_background": "light"
     },
     "output_type": "display_data"
    }
   ],
   "source": [
    "plt.plot(epoch,mse_list)\n",
    "plt.xlabel(\"Epoch(number of iteration)\")\n",
    "plt.ylabel(\"mse\")\n",
    "plt.show()"
   ]
  },
  {
   "cell_type": "code",
   "execution_count": 20,
   "id": "9cff5e1f",
   "metadata": {},
   "outputs": [
    {
     "data": {
      "text/plain": [
       "341   -1.066202\n",
       "225    0.791718\n",
       "23    -0.451156\n",
       "411   -6.524196\n",
       "94     5.954787\n",
       "         ...   \n",
       "358   -2.719504\n",
       "5      0.984351\n",
       "383    3.544775\n",
       "79    -1.908538\n",
       "187   -2.521326\n",
       "Name: Y house price of unit area, Length: 331, dtype: float64"
      ]
     },
     "execution_count": 20,
     "metadata": {},
     "output_type": "execute_result"
    }
   ],
   "source": [
    "error=y-y_pred\n",
    "error"
   ]
  }
 ],
 "metadata": {
  "kernelspec": {
   "display_name": "Python 3 (ipykernel)",
   "language": "python",
   "name": "python3"
  },
  "language_info": {
   "codemirror_mode": {
    "name": "ipython",
    "version": 3
   },
   "file_extension": ".py",
   "mimetype": "text/x-python",
   "name": "python",
   "nbconvert_exporter": "python",
   "pygments_lexer": "ipython3",
   "version": "3.9.16"
  }
 },
 "nbformat": 4,
 "nbformat_minor": 5
}
